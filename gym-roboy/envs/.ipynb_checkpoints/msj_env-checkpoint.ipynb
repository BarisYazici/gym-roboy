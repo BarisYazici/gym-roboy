{
 "cells": [
  {
   "cell_type": "code",
   "execution_count": 1,
   "metadata": {},
   "outputs": [],
   "source": [
    "import gym\n",
    "from gym import error, spaces, utils\n",
    "from gym.utils import seeding\n",
    "import rclpy\n",
    "from roboy_simulation_msgs.srv import GymStep\n",
    "from roboy_simulation_msgs.msg import JointState\n",
    "from roboy_simulation_msgs.srv import GymReset\n",
    "import numpy as np"
   ]
  },
  {
   "cell_type": "code",
   "execution_count": 2,
   "metadata": {},
   "outputs": [],
   "source": [
    "class MsjEnv(gym.GoalEnv):\n",
    "    #metadata = {'render.modes': ['human']}\n",
    "    def __init__(self):\n",
    "        rclpy.init()\n",
    "        self.node = rclpy.create_node('gym_client')\n",
    "        self.step_cli = self.node.create_client(GymStep, 'gym_step')\n",
    "        self.reset_cli = self.node.create_client(GymReset, 'gym_reset')\n",
    "        #self.seed()\n",
    "        #self.env_setup()\n",
    "\n",
    "\n",
    "        #max limit position for q\n",
    "        self.max_position = 3.14\n",
    "\n",
    "        #2cm/s for ldot\n",
    "        self.max_speed = 0.02\n",
    "    \n",
    "        #why do we need a sample goal -> desired goal for the training environment\n",
    "        #sample goal is the q given\n",
    "        #self.goal = self._sample_goal()\n",
    "\n",
    "        #obs is a dictionary which has observation, achieved goal and desired goal. Achieved goal is useful for HER algorithm\n",
    "        #obs = self._get_obs()\n",
    "\n",
    "        #ldot is the action space. -2cm/s to 2cm/s\n",
    "        self.action_space = spaces.Box(low=-self.max_speed, high=self.max_speed, shape=(8,), dtype='float32')\n",
    "        \n",
    "        #subscribe to the q and qdot. MSJ has 3 DOF q is a vector of 3. qdot has the same shape as q.\n",
    "        #self.observation_space = spaces.Box(low=self.low_state, high=self.high_state)\n",
    "        #enter the true joint limits\n",
    "        \"\"\"\n",
    "        self.observation_space = spaces.Dict(dict(\n",
    "            desired_goal=spaces.Box(-np.inf, np.inf, shape=obs['achieved_goal'].shape, dtype='float32'),\n",
    "            achieved_goal=spaces.Box(-np.inf, np.inf, shape=obs['achieved_goal'].shape, dtype='float32'),\n",
    "            observation=spaces.Box(-np.inf, np.inf, shape=obs['observation'].shape, dtype='float32'),\n",
    "        ))\n",
    "        \"\"\"\n",
    "\n",
    "    def __del__(self):\n",
    "        self.node.destroy_node()\n",
    "        rclpy.shutdown()\n",
    "        \n",
    "    # A function to initialize the random generator\n",
    "    def _seed(self, seed=None):\n",
    "        self.np_random, seed = seeding.np_random(seed)\n",
    "        return [seed]\n",
    "    def env_setup():\n",
    "        pass\n",
    "        \n",
    "\n",
    "    def step(self):\n",
    "        #action = np.clip(action, self.action_space.low, self.action_space.high)\n",
    "        #self._set_action(action) #set the topic on of target poses\n",
    "        #self.sim.step() #unpause the simulation, implement a ROS2 service to command CARDSflow\n",
    "        #obs = self._get_obs()\n",
    "        \n",
    "        #Cast action space to array given below\n",
    "        set_points = [ 0.01,0.01,0.01,0.015,0.01,0.02,0.02,0.02]\n",
    "        while not self.step_cli.wait_for_service(timeout_sec=1.0):\n",
    "            self.node.get_logger().info('service not available, waiting...')\n",
    "\n",
    "        step_size = 1.0\n",
    "        req = GymStep.Request()\n",
    "        res = GymStep.Response()\n",
    "        req.set_points = set_points\n",
    "        req.step_size = step_size\n",
    "        future = self.step_cli.call_async(req)\n",
    "        rclpy.spin_until_future_complete(self.node,future)\n",
    "        if future.result() is not None:\n",
    "            self.node.get_logger().info(\"result: %f\" % future.result().q[1])\n",
    "        return future.result()\n",
    "    \"\"\"\n",
    "        done = False\n",
    "        info = {\n",
    "            'is_success': self._is_success(obs['achieved_goal'], self.goal),\n",
    "        }\n",
    "        reward = self.compute_reward(obs['achieved_goal'], self.goal, info)\n",
    "        return obs, reward, done, info\n",
    "    \"\"\"\n",
    "    def reset(self):\n",
    "        #resetSim\n",
    "        #unpauseSim\n",
    "        #check topic publishers connection\n",
    "        step_size = 1.0\n",
    "        req = GymStep.Request()\n",
    "        res = GymStep.Response()\n",
    "        req.step_size = step_size\n",
    "        future = self.reset_cli.call_async(req)\n",
    "        rclpy.spin_until_future_complete(self.node,future)\n",
    "        if future.result() is not None:\n",
    "            self.node.get_logger().info(\"result: %f\" % future.result().q[1])\n",
    "        return future.result()\n",
    "    \n",
    "\n",
    "    def get_obs(self):\n",
    "        #ROS topics and stuff \n",
    "        #position and velocity of the end effector\n",
    "        #TO-DO subscribe to the q and qdot from ROS1_bridge\n",
    "        while not self.step_cli.wait_for_service(timeout_sec=1.0):\n",
    "            self.node.get_logger().info('service not available, waiting...')\n",
    "        req = GymStep.Request()\n",
    "        future = self.step_cli.call_async(req)\n",
    "        rclpy.spin_until_future_complete(self.node,future)\n",
    "\n",
    "        return future.result()\n",
    "        \"\"\"\n",
    "        robot_qpos, robot_qvel = robot_get_obs(self.sim)\n",
    "        achieved_goal = self._get_achieved_goal().ravel()\n",
    "        observation = np.concatenate([robot_qpos, robot_qvel, achieved_goal])\n",
    "        return {\n",
    "            'observation': observation.copy(),\n",
    "            'achieved_goal': achieved_goal.copy(),\n",
    "            'desired_goal': self.goal.copy(),\n",
    "        }\n",
    "        \"\"\"\n",
    "    \n",
    "    def _get_achieved_goal(self):\n",
    "        \n",
    "        #goal = [self.sim.data.get_site_xpos(name) for name in FINGERTIP_SITE_NAMES]\n",
    "        return np.array(goal).flatten()\n",
    "    \n",
    "    def compute_reward(self, achieved_goal, goal, info):\n",
    "        d = goal_distance(achieved_goal, goal)\n",
    "        if self.reward_type == 'sparse':\n",
    "            return -(d > self.distance_threshold).astype(np.float32)\n",
    "        else:\n",
    "            return -d\n",
    "\n"
   ]
  },
  {
   "cell_type": "code",
   "execution_count": 4,
   "metadata": {},
   "outputs": [],
   "source": [
    "#rclpy.shutdown()\n",
    "#env = MsjEnv()\n",
    "\n"
   ]
  },
  {
   "cell_type": "code",
   "execution_count": 163,
   "metadata": {
    "scrolled": true
   },
   "outputs": [
    {
     "name": "stdout",
     "output_type": "stream",
     "text": [
      "roboy_simulation_msgs.srv.GymStep_Response(q=[0.0, 0.0, 0.0], qdot=[0.0, 0.0, 0.0])\n"
     ]
    }
   ],
   "source": [
    "#q = env.get_obs()\n",
    "#print(q)"
   ]
  },
  {
   "cell_type": "code",
   "execution_count": 166,
   "metadata": {},
   "outputs": [
    {
     "name": "stdout",
     "output_type": "stream",
     "text": [
      "roboy_simulation_msgs.srv.GymStep_Response(q=[1.0322492484525478e-05, 1.795732548431024e-07, -6.538507183773124e-06], qdot=[0.0, 0.0, 0.0])\n"
     ]
    }
   ],
   "source": [
    "#q = env.step()\n",
    "#print(q)"
   ]
  },
  {
   "cell_type": "code",
   "execution_count": 165,
   "metadata": {
    "scrolled": true
   },
   "outputs": [
    {
     "name": "stdout",
     "output_type": "stream",
     "text": [
      "roboy_simulation_msgs.srv.GymReset_Response(q=[0.0, 0.0, 0.0], qdot=[0.0, 0.0, 0.0])\n"
     ]
    }
   ],
   "source": [
    "#q = env.reset()\n",
    "#print(q)"
   ]
  },
  {
   "cell_type": "code",
   "execution_count": null,
   "metadata": {},
   "outputs": [],
   "source": []
  },
  {
   "cell_type": "code",
   "execution_count": null,
   "metadata": {},
   "outputs": [],
   "source": []
  },
  {
   "cell_type": "code",
   "execution_count": null,
   "metadata": {},
   "outputs": [],
   "source": []
  },
  {
   "cell_type": "code",
   "execution_count": null,
   "metadata": {},
   "outputs": [],
   "source": []
  }
 ],
 "metadata": {
  "kernelspec": {
   "display_name": "Python 3",
   "language": "python",
   "name": "python3"
  },
  "language_info": {
   "codemirror_mode": {
    "name": "ipython",
    "version": 3
   },
   "file_extension": ".py",
   "mimetype": "text/x-python",
   "name": "python",
   "nbconvert_exporter": "python",
   "pygments_lexer": "ipython3",
   "version": "3.5.2"
  }
 },
 "nbformat": 4,
 "nbformat_minor": 2
}
